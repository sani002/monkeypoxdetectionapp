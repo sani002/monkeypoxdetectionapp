{
 "cells": [
  {
   "cell_type": "code",
   "execution_count": 41,
   "id": "553fc31c",
   "metadata": {},
   "outputs": [],
   "source": [
    "import os\n",
    "import numpy as np\n",
    "import tensorflow as tf\n",
    "from tensorflow.keras.models import load_model\n",
    "from tensorflow.keras.preprocessing import image\n",
    "from flask import Flask, render_template, request\n",
    "from tensorflow.keras.preprocessing.image import load_img\n",
    "from tensorflow.keras.preprocessing.image import img_to_array"
   ]
  },
  {
   "cell_type": "code",
   "execution_count": 42,
   "id": "b9fffc50",
   "metadata": {},
   "outputs": [],
   "source": [
    "app = Flask(__name__)"
   ]
  },
  {
   "cell_type": "code",
   "execution_count": 43,
   "id": "d8136b8b",
   "metadata": {},
   "outputs": [],
   "source": [
    "def get_model():\n",
    "    global model\n",
    "    model = load_model('model.h5')\n",
    "    print(\"Model loaded!\")"
   ]
  },
  {
   "cell_type": "code",
   "execution_count": 44,
   "id": "30c99b2d",
   "metadata": {},
   "outputs": [],
   "source": [
    "def load_image(img_path):\n",
    "\n",
    "    img = image.load_img(img_path, target_size=(256, 256))\n",
    "    img_tensor = image.img_to_array(img)                   \n",
    "    img_tensor = np.expand_dims(img_tensor, axis=0)       \n",
    "    img_tensor /= 255.                                     \n",
    "\n",
    "    return img_tensor"
   ]
  },
  {
   "cell_type": "code",
   "execution_count": 45,
   "id": "3a55e509",
   "metadata": {},
   "outputs": [],
   "source": [
    "def prediction(img_path):\n",
    "    new_image = load_image(img_path)\n",
    "    \n",
    "    pred = model.predict(new_image)\n",
    "    \n",
    "    print(pred)\n",
    "    if pred<0.5:\n",
    "        return \"It might be Monkeypox. You should visit a specialist immediately. Thank you.\"\n",
    "    else:\n",
    "        return \"It's most probably not monkeypox, but still you should visit a skin specialist. Thank you.\""
   ]
  },
  {
   "cell_type": "code",
   "execution_count": 46,
   "id": "7ce0915d",
   "metadata": {},
   "outputs": [
    {
     "name": "stdout",
     "output_type": "stream",
     "text": [
      "Model loaded!\n"
     ]
    }
   ],
   "source": [
    "get_model()"
   ]
  },
  {
   "cell_type": "code",
   "execution_count": 47,
   "id": "f8ca0400",
   "metadata": {},
   "outputs": [],
   "source": [
    "@app.route(\"/\", methods=['GET', 'POST'])\n",
    "def home():\n",
    "\n",
    "    return render_template('home.html')\n",
    "\n",
    "@app.route(\"/predict\", methods = ['GET','POST'])\n",
    "def predict():\n",
    "    \n",
    "    if request.method == 'POST':\n",
    "        \n",
    "        file = request.files['file']\n",
    "        filename = file.filename\n",
    "        file_path = os.path.join(r'C:\\Users\\sanis\\Downloads\\Defect-Detection-of-PCB-main\\mhealth_lab_app\\static', filename)    #for web deployment remember to change static location!                  \n",
    "        file.save(file_path)\n",
    "        print(filename)\n",
    "        product = prediction(file_path)\n",
    "        print(product)\n",
    "        \n",
    "    return render_template('predict.html', product = product, user_image = file_path)          "
   ]
  },
  {
   "cell_type": "code",
   "execution_count": 48,
   "id": "ad070c41",
   "metadata": {
    "scrolled": false
   },
   "outputs": [
    {
     "name": "stdout",
     "output_type": "stream",
     "text": [
      " * Serving Flask app '__main__' (lazy loading)\n",
      " * Environment: production\n",
      "\u001b[31m   WARNING: This is a development server. Do not use it in a production deployment.\u001b[0m\n",
      "\u001b[2m   Use a production WSGI server instead.\u001b[0m\n",
      " * Debug mode: off\n"
     ]
    },
    {
     "name": "stderr",
     "output_type": "stream",
     "text": [
      " * Running on http://127.0.0.1:5000 (Press CTRL+C to quit)\n",
      "127.0.0.1 - - [05/Jul/2022 02:16:39] \"GET / HTTP/1.1\" 200 -\n"
     ]
    },
    {
     "name": "stdout",
     "output_type": "stream",
     "text": [
      "Chickenpox_Adult_back_slide.jpg\n",
      "WARNING:tensorflow:5 out of the last 5 calls to <function Model.make_predict_function.<locals>.predict_function at 0x000001F688AA7F40> triggered tf.function retracing. Tracing is expensive and the excessive number of tracings could be due to (1) creating @tf.function repeatedly in a loop, (2) passing tensors with different shapes, (3) passing Python objects instead of tensors. For (1), please define your @tf.function outside of the loop. For (2), @tf.function has reduce_retracing=True option that can avoid unnecessary retracing. For (3), please refer to https://www.tensorflow.org/guide/function#controlling_retracing and https://www.tensorflow.org/api_docs/python/tf/function for  more details.\n",
      "1/1 [==============================] - 0s 104ms/step\n"
     ]
    },
    {
     "name": "stderr",
     "output_type": "stream",
     "text": [
      "127.0.0.1 - - [05/Jul/2022 02:16:45] \"POST /predict HTTP/1.1\" 200 -\n"
     ]
    },
    {
     "name": "stdout",
     "output_type": "stream",
     "text": [
      "[[0.9999894]]\n",
      "It's most probably not monkeypox, but still you should visit a skin specialist. Thank you.\n"
     ]
    }
   ],
   "source": [
    "if __name__ == \"__main__\":\n",
    "    app.run()"
   ]
  },
  {
   "cell_type": "code",
   "execution_count": null,
   "id": "1573480a",
   "metadata": {},
   "outputs": [],
   "source": []
  },
  {
   "cell_type": "code",
   "execution_count": null,
   "id": "16b875c6",
   "metadata": {},
   "outputs": [],
   "source": []
  },
  {
   "cell_type": "code",
   "execution_count": null,
   "id": "dbddc07f",
   "metadata": {},
   "outputs": [],
   "source": []
  }
 ],
 "metadata": {
  "kernelspec": {
   "display_name": "mkp",
   "language": "python",
   "name": "mkp"
  },
  "language_info": {
   "codemirror_mode": {
    "name": "ipython",
    "version": 3
   },
   "file_extension": ".py",
   "mimetype": "text/x-python",
   "name": "python",
   "nbconvert_exporter": "python",
   "pygments_lexer": "ipython3",
   "version": "3.10.5"
  },
  "vscode": {
   "interpreter": {
    "hash": "35dcb139cfda8de9fe7822bce9227313bf43a62634661f512c5ce7612f2eeeb2"
   }
  }
 },
 "nbformat": 4,
 "nbformat_minor": 5
}
